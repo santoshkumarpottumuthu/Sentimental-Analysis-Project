{
  "nbformat": 4,
  "nbformat_minor": 0,
  "metadata": {
    "colab": {
      "name": "AI Project.ipynb",
      "provenance": [],
      "collapsed_sections": [],
      "authorship_tag": "ABX9TyOMvx650t/ln6LimKDnXcpO",
      "include_colab_link": true
    },
    "kernelspec": {
      "name": "python3",
      "display_name": "Python 3"
    }
  },
  "cells": [
    {
      "cell_type": "markdown",
      "metadata": {
        "id": "view-in-github",
        "colab_type": "text"
      },
      "source": [
        "<a href=\"https://colab.research.google.com/github/santoshkumarpottumuthu/Sentimental-Analysis-Project/blob/master/AI_Project.ipynb\" target=\"_parent\"><img src=\"https://colab.research.google.com/assets/colab-badge.svg\" alt=\"Open In Colab\"/></a>"
      ]
    },
    {
      "cell_type": "code",
      "metadata": {
        "id": "8L_tHyYLfQt8",
        "colab_type": "code",
        "colab": {}
      },
      "source": [
        "import tweepy\n",
        "import matplotlib.pyplot as plt\n",
        "import pandas as pd\n",
        "import numpy as np\n",
        "from textblob import TextBlob\n",
        "import sys\n",
        "import re\n"
      ],
      "execution_count": 0,
      "outputs": []
    },
    {
      "cell_type": "code",
      "metadata": {
        "id": "LcWunYOpoukb",
        "colab_type": "code",
        "colab": {}
      },
      "source": [
        "from wordcloud import WordCloud "
      ],
      "execution_count": 0,
      "outputs": []
    },
    {
      "cell_type": "code",
      "metadata": {
        "id": "9E0BXj9mfiDO",
        "colab_type": "code",
        "colab": {}
      },
      "source": [
        "#defining the keys ---from twitter api\n",
        "Consumer_Key = \"qhfac9zsMmUCa8GkMLOYM21hg\"\n",
        "Consumer_Secret = \"PNgSjpiu4rEHO2FkIri4mseCksGvxGFFbb0LluwrBUOhvtsGiI\"\n",
        "Access_token = \"472099927-B03YMYZ8R88OTnQGIxvEN45mfrg2rNaUJNzP222K\"\n",
        "Access_token_Secret = \"oE8fAROsHENZzCNfozla6z6t6elgllhU0eeRBBLi2Iovq\""
      ],
      "execution_count": 0,
      "outputs": []
    },
    {
      "cell_type": "code",
      "metadata": {
        "id": "-ujGzFeFfxpo",
        "colab_type": "code",
        "colab": {}
      },
      "source": [
        "#creating the authentication\n",
        "auth = tweepy.OAuthHandler(consumer_key= Consumer_Key,consumer_secret=Consumer_Secret)\n",
        "auth.set_access_token(Access_token,Access_token_Secret)\n",
        "api = tweepy.API(auth,wait_on_rate_limit=True)"
      ],
      "execution_count": 0,
      "outputs": []
    },
    {
      "cell_type": "code",
      "metadata": {
        "id": "rOrKHtRMf0t-",
        "colab_type": "code",
        "colab": {}
      },
      "source": [
        "#asking user to enter the keyword and number of tweets to be analysed.\n",
        "search_word = input(\"Enter the Keyword/hashtag to be searched:\")\n",
        "num_of_tweets = int(input(\"Enter the Number of tweets to be analysed:\"))"
      ],
      "execution_count": 0,
      "outputs": []
    },
    {
      "cell_type": "code",
      "metadata": {
        "id": "l7VdAd1Kf3WM",
        "colab_type": "code",
        "colab": {}
      },
      "source": [
        "tweets = tweepy.Cursor(api.search , q=search_word , language =\"English\").items(num_of_tweets)"
      ],
      "execution_count": 0,
      "outputs": []
    },
    {
      "cell_type": "code",
      "metadata": {
        "id": "mGs4LpSWgLOo",
        "colab_type": "code",
        "colab": {}
      },
      "source": [
        "for tweet in tweets:\n",
        "  analysis = TextBlob(tweet.text)\n",
        "  polarity = analysis.sentiment.polarity\n",
        "  #Creating the Data Frame of Tweets\n",
        "  df = pd.DataFrame([tweet.text for tweet in tweets] , columns= ['Tweets'])\n",
        "  #print(analysis)\n"
      ],
      "execution_count": 0,
      "outputs": []
    },
    {
      "cell_type": "code",
      "metadata": {
        "id": "J5_ZSjCLgUf8",
        "colab_type": "code",
        "colab": {}
      },
      "source": [
        "pos =0\n",
        "neg =0\n",
        "neutral =0\n"
      ],
      "execution_count": 0,
      "outputs": []
    },
    {
      "cell_type": "code",
      "metadata": {
        "id": "5BsOjAONhiFZ",
        "colab_type": "code",
        "colab": {}
      },
      "source": [
        "df.head()"
      ],
      "execution_count": 0,
      "outputs": []
    },
    {
      "cell_type": "code",
      "metadata": {
        "id": "Pr0OpcBNhplu",
        "colab_type": "code",
        "colab": {}
      },
      "source": [
        "#cleaning the tweets:\n",
        "def clean_tweet(txt):\n",
        "  txt = re.sub('@[A-Za-z0–9]+', '', txt) #Removing @mentions\n",
        "  txt = re.sub('#', '', txt) # Removing '#' hash tag\n",
        "  txt = re.sub('RT[\\s]+', '', txt) # Removing RT\n",
        "  txt = re.sub('https?:\\/\\/\\S+', '', txt) # Removing hyperlink\n",
        "  return txt"
      ],
      "execution_count": 0,
      "outputs": []
    },
    {
      "cell_type": "code",
      "metadata": {
        "id": "Hc-LgBbEiZgz",
        "colab_type": "code",
        "colab": {}
      },
      "source": [
        "df['Tweets'] = df['Tweets'].apply(clean_tweet)"
      ],
      "execution_count": 0,
      "outputs": []
    },
    {
      "cell_type": "code",
      "metadata": {
        "id": "u-spuriTihTb",
        "colab_type": "code",
        "colab": {}
      },
      "source": [
        "df"
      ],
      "execution_count": 0,
      "outputs": []
    },
    {
      "cell_type": "code",
      "metadata": {
        "id": "K5vvps-DiiOP",
        "colab_type": "code",
        "colab": {}
      },
      "source": [
        "#creating function to get the subjectivity\n",
        "def subjectivity(txt):\n",
        "    return TextBlob(txt).sentiment.subjectivity\n"
      ],
      "execution_count": 0,
      "outputs": []
    },
    {
      "cell_type": "code",
      "metadata": {
        "id": "qb3j7rZdoYYe",
        "colab_type": "code",
        "colab": {}
      },
      "source": [
        "#creating a function to get the polarity\n",
        "def t_polarity(txt):\n",
        "    return TextBlob(txt).sentiment.polarity"
      ],
      "execution_count": 0,
      "outputs": []
    },
    {
      "cell_type": "code",
      "metadata": {
        "id": "ZKeMEwnvoY2A",
        "colab_type": "code",
        "colab": {}
      },
      "source": [
        "#now creating two new columns in the created dataframe to store polarity and subjecttivity.\n",
        "\n",
        "df['subjectivity'] = df['Tweets'].apply(subjectivity)\n",
        "df['polarity'] = df['Tweets'].apply(t_polarity)\n",
        "#displaying the new df with both subjectiviy and polarity\n",
        "print(df.head())"
      ],
      "execution_count": 0,
      "outputs": []
    },
    {
      "cell_type": "code",
      "metadata": {
        "id": "xN0F5q40od3X",
        "colab_type": "code",
        "colab": {}
      },
      "source": [
        "def getAnalysis(score):\n",
        " if score < 0:\n",
        "  return 'Negative'\n",
        " elif score == 0:\n",
        "  return 'Neutral'\n",
        " else:\n",
        "  return 'Positive'"
      ],
      "execution_count": 0,
      "outputs": []
    },
    {
      "cell_type": "code",
      "metadata": {
        "id": "SrE9qtyKCw54",
        "colab_type": "code",
        "colab": {}
      },
      "source": [
        "df['Analysis'] = df['polarity'].apply(getAnalysis)"
      ],
      "execution_count": 0,
      "outputs": []
    },
    {
      "cell_type": "code",
      "metadata": {
        "id": "Eepyhy4KC0Fq",
        "colab_type": "code",
        "colab": {}
      },
      "source": [
        "#printing positive tweets\n",
        "print('Printing positive tweets:\\n')\n",
        "j=1\n",
        "sortedD_Frame = df.sort_values(by=['polarity']) #Sort the tweets\n",
        "for i in range(0, sortedD_Frame.shape[0] ):\n",
        "  if( sortedD_Frame['Analysis'][i] == 'Positive'):\n",
        "    print(str(j) + ') '+ sortedD_Frame['Tweets'][i])\n",
        "    print()\n",
        "    j= j+1\n"
      ],
      "execution_count": 0,
      "outputs": []
    },
    {
      "cell_type": "code",
      "metadata": {
        "id": "i9G6vE2pC3Cw",
        "colab_type": "code",
        "colab": {}
      },
      "source": [
        "# Printing negative tweets\n",
        "print('Printing negative tweets:\\n')\n",
        "j=1\n",
        "sortedDF = df.sort_values(by=['polarity'],ascending=False) #Sort the tweets\n",
        "for i in range(0, sortedD_Frame.shape[0] ):\n",
        "  if( sortedD_Frame['Analysis'][i] == 'Negative'):\n",
        "    print(str(j) + ') '+sortedD_Frame['Tweets'][i])\n",
        "    print()\n",
        "    j=j+1\n"
      ],
      "execution_count": 0,
      "outputs": []
    },
    {
      "cell_type": "code",
      "metadata": {
        "id": "iX1PRIWeC47_",
        "colab_type": "code",
        "colab": {
          "base_uri": "https://localhost:8080/",
          "height": 458
        },
        "outputId": "34a3b153-501b-48bf-8fb7-4cd63c540aee"
      },
      "source": [
        "# Plotting\n",
        "plt.figure(figsize=(8, 6))\n",
        "for i in range(0, df.shape[0]):\n",
        "  plt.scatter(df[\"polarity\"][i], df[\"subjectivity\"][i], color='Blue')  # plt.scatter(x,y,color)\n",
        "print(\"\\t\\tHow People are reacting on \"+ search_word + \" by analysing \"+ str(num_of_tweets) +\" Tweets .\")\n",
        "#print(\"\\t\\t\\t\\t Negative polarity represents that the statement is negative \\n Positive Represents the given statement is Positive a=\\n 0 Polarity represents Neutral.\")\n",
        "plt.title('Sentiment Analysis')\n",
        "plt.xlabel('polarity')\n",
        "plt.ylabel('subjectivity')\n",
        "plt.tight_layout()\n",
        "plt.show()\n"
      ],
      "execution_count": 139,
      "outputs": [
        {
          "output_type": "stream",
          "text": [
            "\t\tHow People are reacting on italy by analysing 200 Tweets .\n"
          ],
          "name": "stdout"
        },
        {
          "output_type": "display_data",
          "data": {
            "image/png": "[encoded data removed]",
            "text/plain": [
              "<Figure size 576x432 with 1 Axes>"
            ]
          },
          "metadata": {
            "tags": []
          }
        }
      ]
    },
    {
      "cell_type": "code",
      "metadata": {
        "id": "5yjKuom8C8vo",
        "colab_type": "code",
        "colab": {}
      },
      "source": [
        ""
      ],
      "execution_count": 0,
      "outputs": []
    }
  ]
}