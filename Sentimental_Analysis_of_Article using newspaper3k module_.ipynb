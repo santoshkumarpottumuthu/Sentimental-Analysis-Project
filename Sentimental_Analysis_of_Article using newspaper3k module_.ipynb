{
  "nbformat": 4,
  "nbformat_minor": 0,
  "metadata": {
    "colab": {
      "name": "Sentimental Analysis using Article .ipynb",
      "provenance": [],
      "collapsed_sections": [],
      "authorship_tag": "ABX9TyOPXfMnUsG3wjHi6W0z8e5s",
      "include_colab_link": true
    },
    "kernelspec": {
      "name": "python3",
      "display_name": "Python 3"
    }
  },
  "cells": [
    {
      "cell_type": "markdown",
      "metadata": {
        "id": "view-in-github",
        "colab_type": "text"
      },
      "source": [
        "<a href=\"https://colab.research.google.com/github/santoshkumarpottumuthu/Sentimental-Analysis-Project/blob/master/Sentimental_Analysis_of_Article%20using%20newspaper3k%20module_.ipynb\" target=\"_parent\"><img src=\"https://colab.research.google.com/assets/colab-badge.svg\" alt=\"Open In Colab\"/></a>"
      ]
    },
    {
      "cell_type": "code",
      "metadata": {
        "id": "taV58MCLdC7y",
        "colab_type": "code",
        "colab": {}
      },
      "source": [
        "!pip install article"
      ],
      "execution_count": 0,
      "outputs": []
    },
    {
      "cell_type": "code",
      "metadata": {
        "id": "braem3jIdYea",
        "colab_type": "code",
        "colab": {}
      },
      "source": [
        "!pip install newspaper3k"
      ],
      "execution_count": 0,
      "outputs": []
    },
    {
      "cell_type": "code",
      "metadata": {
        "id": "qYS9FQCWdGe_",
        "colab_type": "code",
        "colab": {}
      },
      "source": [
        "#importing the libraries\n",
        "from textblob import TextBlob\n",
        "from newspaper import Article\n",
        "import nltk"
      ],
      "execution_count": 0,
      "outputs": []
    },
    {
      "cell_type": "code",
      "metadata": {
        "id": "1ns8U-5sdUkL",
        "colab_type": "code",
        "colab": {}
      },
      "source": [
        "#getting the url\n",
        "url = 'https://www.who.int/emergencies/diseases/novel-coronavirus-2019/global-research-on-novel-coronavirus-2019-ncov'\n",
        "\n",
        "article = Article(url)"
      ],
      "execution_count": 0,
      "outputs": []
    },
    {
      "cell_type": "code",
      "metadata": {
        "id": "dJm2TDwifJzS",
        "colab_type": "code",
        "colab": {
          "base_uri": "https://localhost:8080/",
          "height": 50
        },
        "outputId": "c30e80e5-1c01-4034-f32a-fd8f73028102"
      },
      "source": [
        "#on performing nlp on the given url\n",
        "article.download()\n",
        "article.parse()\n",
        "nltk.download('punkt')\n",
        "article.nlp()"
      ],
      "execution_count": 33,
      "outputs": [
        {
          "output_type": "stream",
          "text": [
            "[nltk_data] Downloading package punkt to /root/nltk_data...\n",
            "[nltk_data]   Package punkt is already up-to-date!\n"
          ],
          "name": "stdout"
        }
      ]
    },
    {
      "cell_type": "code",
      "metadata": {
        "id": "asOg7Lc7f61d",
        "colab_type": "code",
        "colab": {}
      },
      "source": [
        "text = article.summary"
      ],
      "execution_count": 0,
      "outputs": []
    },
    {
      "cell_type": "code",
      "metadata": {
        "id": "QKestAImhj8L",
        "colab_type": "code",
        "colab": {
          "base_uri": "https://localhost:8080/",
          "height": 87
        },
        "outputId": "757197c9-c8cd-4254-8225-3803311e401f"
      },
      "source": [
        "print(text)"
      ],
      "execution_count": 35,
      "outputs": [
        {
          "output_type": "stream",
          "text": [
            "WHO is gathering the latest scientific findings and knowledge on coronavirus disease (COVID-19) and compiling it in a database.\n",
            "We update the database daily from searches of bibliographic databases, hand searches of the table of contents of relevant journals, and the addition of other relevant scientific articles that come to our attention.\n",
            "The entries in the database may not be exhaustive and new research will be added regularly.\n"
          ],
          "name": "stdout"
        }
      ]
    },
    {
      "cell_type": "code",
      "metadata": {
        "id": "1DWbRmEnhlVm",
        "colab_type": "code",
        "colab": {}
      },
      "source": [
        "art = TextBlob(text)\n",
        "polarity = art.sentiment.polarity\n",
        "#print(polarity)"
      ],
      "execution_count": 0,
      "outputs": []
    },
    {
      "cell_type": "code",
      "metadata": {
        "id": "_UkZgxTDhxve",
        "colab_type": "code",
        "colab": {
          "base_uri": "https://localhost:8080/",
          "height": 34
        },
        "outputId": "aba3a214-1a13-49ef-9d9e-b02cab724945"
      },
      "source": [
        "if (polarity == 0):\n",
        "  print(\"The text extracted from the given url is Neutral.\")\n",
        "elif (polarity > 0):\n",
        "  print(\"The text extracted from the given url is Positive.\")\n",
        "elif(polarity <0):\n",
        "  print(\"The text extracted from the given url is Negative.\")"
      ],
      "execution_count": 37,
      "outputs": [
        {
          "output_type": "stream",
          "text": [
            "The text extracted from the given url is Positive.\n"
          ],
          "name": "stdout"
        }
      ]
    },
    {
      "cell_type": "code",
      "metadata": {
        "id": "dlQ16q3HiY5B",
        "colab_type": "code",
        "colab": {}
      },
      "source": [
        ""
      ],
      "execution_count": 0,
      "outputs": []
    }
  ]
}